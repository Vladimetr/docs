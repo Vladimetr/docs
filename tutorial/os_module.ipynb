{
 "cells": [
  {
   "cell_type": "code",
   "execution_count": 4,
   "metadata": {},
   "outputs": [
    {
     "name": "stdout",
     "output_type": "stream",
     "text": [
      "prr\n",
      "SPEECH\n",
      "tmpfs\n",
      "raid10\n",
      "nvme208\n",
      "nvme\n"
     ]
    }
   ],
   "source": [
    "import os\n",
    "input_dir = '/mnt'\n",
    "for p in os.listdir(input_dir):\n",
    "    path = os.path.join(input_dir, p)\n",
    "    if not os.path.isdir(path):\n",
    "        continue\n",
    "\n",
    "    class_name = path.split('/')[-1]\n",
    "    print(class_name)"
   ]
  },
  {
   "cell_type": "code",
   "execution_count": null,
   "metadata": {},
   "outputs": [],
   "source": [
    "# считывание с файла\n",
    "with open('file.txt', 'rb') as f:\n",
    "    for line in f:       \n",
    "        line = line.decode('utf-8').strip()     # 'a b c d e f'\n",
    "        data_ls = line.split()                  # ['a', 'b', 'c', ...]"
   ]
  },
  {
   "cell_type": "code",
   "execution_count": 2,
   "metadata": {},
   "outputs": [
    {
     "name": "stdout",
     "output_type": "stream",
     "text": [
      "Dir or File exists\n"
     ]
    }
   ],
   "source": [
    "import os\n",
    "\n",
    "path = '../tutorial/'\n",
    "\n",
    "# проверка существования директории или файла\n",
    "if os.path.exists(path):\n",
    "    print('Dir or File exists')"
   ]
  },
  {
   "cell_type": "code",
   "execution_count": 3,
   "metadata": {},
   "outputs": [
    {
     "ename": "NameError",
     "evalue": "name '__file__' is not defined",
     "output_type": "error",
     "traceback": [
      "\u001b[0;31m---------------------------------------------------------------------------\u001b[0m",
      "\u001b[0;31mNameError\u001b[0m                                 Traceback (most recent call last)",
      "\u001b[0;32m<ipython-input-3-440af4ec4a5f>\u001b[0m in \u001b[0;36m<module>\u001b[0;34m\u001b[0m\n\u001b[1;32m      1\u001b[0m \u001b[0;31m# абс. путь, где лежит текущий .py\u001b[0m\u001b[0;34m\u001b[0m\u001b[0;34m\u001b[0m\u001b[0;34m\u001b[0m\u001b[0m\n\u001b[0;32m----> 2\u001b[0;31m \u001b[0mos\u001b[0m\u001b[0;34m.\u001b[0m\u001b[0mpath\u001b[0m\u001b[0;34m.\u001b[0m\u001b[0mdirname\u001b[0m\u001b[0;34m(\u001b[0m\u001b[0m__file__\u001b[0m\u001b[0;34m)\u001b[0m\u001b[0;34m\u001b[0m\u001b[0;34m\u001b[0m\u001b[0m\n\u001b[0m",
      "\u001b[0;31mNameError\u001b[0m: name '__file__' is not defined"
     ]
    }
   ],
   "source": [
    "# абс. путь, где лежит текущий .py\n",
    "os.path.dirname(os.path.abspath(__file__))"
   ]
  },
  {
   "cell_type": "code",
   "execution_count": 2,
   "metadata": {},
   "outputs": [
    {
     "name": "stdout",
     "output_type": "stream",
     "text": [
      "./ffmpeg_sound.sh\n",
      "./pandas.ipynb\n",
      "./MatPlotLib.ipynb\n",
      "./Untitled.ipynb\n",
      "./ffmpeg_sounds.sh\n",
      "./tutorial.ipynb\n",
      "./pickle.ipynb\n",
      "./.ipynb_checkpoints\n"
     ]
    }
   ],
   "source": [
    "# список файлов в директории\n",
    "dir_ = './'\n",
    "\n",
    "for f in os.listdir(dir_):\n",
    "    fname = os.path.join(dir_, f)\n",
    "    print(fname)"
   ]
  },
  {
   "cell_type": "code",
   "execution_count": 3,
   "metadata": {},
   "outputs": [
    {
     "name": "stdout",
     "output_type": "stream",
     "text": [
      "('/home/SPEECH', 'ffmpeg_sound.sh')\n"
     ]
    }
   ],
   "source": [
    "# разделение\n",
    "filePath = '/home/SPEECH/ffmpeg_sound.sh'\n",
    "\n",
    "head_tail = os.path.split(filePath)\n",
    "print(head_tail)"
   ]
  },
  {
   "cell_type": "code",
   "execution_count": 9,
   "metadata": {},
   "outputs": [
    {
     "name": "stdout",
     "output_type": "stream",
     "text": [
      "../tutorial/ffmpeg_sound\n"
     ]
    }
   ],
   "source": [
    "# имя и расширение файла\n",
    "filePath = '../tutorial/ffmpeg_sound.sh'\n",
    "\n",
    "file_name, file_extension = os.path.splitext(filePath)\n",
    "print(file_name)"
   ]
  },
  {
   "cell_type": "code",
   "execution_count": 4,
   "metadata": {},
   "outputs": [
    {
     "name": "stdout",
     "output_type": "stream",
     "text": [
      "Is dir\n",
      "Is file\n"
     ]
    }
   ],
   "source": [
    "# является ли путь директорией\n",
    "dir_ = '../tutorial/'\n",
    "if os.path.isdir(dir_):\n",
    "    print('Is dir')\n",
    "    \n",
    "# является ли путь файлом\n",
    "filePath = '../tutorial/ffmpeg_sound.sh'\n",
    "if os.path.isfile(filePath):\n",
    "    print('Is file')"
   ]
  },
  {
   "cell_type": "code",
   "execution_count": null,
   "metadata": {},
   "outputs": [],
   "source": [
    "# если такой директории нет, то создать ее\n",
    "dir_ = 'some_dir'\n",
    "if not os.path.exists(dir_):\n",
    "    os.makedirs(dir_)"
   ]
  },
  {
   "cell_type": "code",
   "execution_count": null,
   "metadata": {},
   "outputs": [],
   "source": [
    "# другие функции\n",
    "os.remove(filePath)"
   ]
  }
 ],
 "metadata": {
  "kernelspec": {
   "display_name": "Python 3",
   "language": "python",
   "name": "python3"
  },
  "language_info": {
   "codemirror_mode": {
    "name": "ipython",
    "version": 3
   },
   "file_extension": ".py",
   "mimetype": "text/x-python",
   "name": "python",
   "nbconvert_exporter": "python",
   "pygments_lexer": "ipython3",
   "version": "3.6.9"
  }
 },
 "nbformat": 4,
 "nbformat_minor": 4
}
