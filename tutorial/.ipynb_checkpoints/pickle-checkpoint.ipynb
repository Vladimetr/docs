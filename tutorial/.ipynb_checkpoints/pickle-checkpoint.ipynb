{
 "cells": [
  {
   "cell_type": "code",
   "execution_count": 6,
   "metadata": {},
   "outputs": [
    {
     "name": "stdout",
     "output_type": "stream",
     "text": [
      "../dataSets/test24.wav\n",
      "duration: 10.0\n",
      "../dataSets/test18.wav\n",
      "duration: 10.0\n",
      "../dataSets/test23.wav\n",
      "duration: 10.0\n",
      "../dataSets/test21.wav\n",
      "duration: 10.0\n",
      "../dataSets/test2.wav\n",
      "duration: 10.0\n",
      "../dataSets/test19.wav\n",
      "duration: 10.0\n",
      "../dataSets/test17.wav\n",
      "duration: 10.0\n",
      "../dataSets/test20.wav\n",
      "duration: 10.0\n",
      "../dataSets/test26.wav\n",
      "duration: 10.0\n",
      "../dataSets/test22.wav\n",
      "duration: 10.0\n",
      "../dataSets/test25.wav\n",
      "duration: 10.0\n"
     ]
    }
   ],
   "source": [
    "# ---------------------------- Обрезка записи ------------------------------------\n",
    "from librosa import load\n",
    "import os\n",
    "import scipy.io.wavfile as wavf\n",
    "import numpy as np\n",
    "\n",
    "# \n",
    "dir_in = '../dataSets'\n",
    "file_ls = [os.path.join(dir_in, f) for f in os.listdir(dir_in) if '.wav' in f]\n",
    "dir_out = dir_in\n",
    "same_name = True  # if False new_name = name-cut.wav\n",
    "\n",
    "# ls of segments in sec\n",
    "segments = [(0., 10.)]\n",
    "FS = 8000\n",
    "\n",
    "for file in file_ls:\n",
    "    print('in: ', file)\n",
    "    sample, _ = load(file, sr=FS)\n",
    "    sample = (np.array(sample)*32768).astype(np.int16)    # from float to int16\n",
    "    \n",
    "    sample_out = None\n",
    "    for (start, end) in segments:\n",
    "        fragment = sample[int(start*FS) : int(end*FS)]\n",
    "        if sample_out is None:\n",
    "            sample_out = fragment\n",
    "        else:\n",
    "            sample_out = np.concatenate((sample_out, fragment))\n",
    "            \n",
    "    new_file = os.path.split(file)[1]\n",
    "    if not same_name:       \n",
    "        new_file = new_file.replace('.wav', '-cut.wav')\n",
    "        \n",
    "        print('duration: {}\\n'.format(sample_out.shape[0]/FS))\n",
    "        \n",
    "    # save\n",
    "    wavf.write(os.path.join(dir_out, new_file), FS, sample_out)"
   ]
  },
  {
   "cell_type": "code",
   "execution_count": 10,
   "metadata": {},
   "outputs": [],
   "source": [
    "import os\n",
    "import numpy as np\n",
    "from pickle import dump\n",
    "\n",
    "MAX_DUR = 500\n",
    "\n",
    "labels = [[-1, 18, 18],\n",
    "          [19, -1, 22],\n",
    "          [-1, 25, 25],\n",
    "          [-1, 22, 22],\n",
    "          [-1, -1, 11],\n",
    "          [18, 18, -1],\n",
    "          [19, 22, 22],\n",
    "          [18, -1, -1],\n",
    "          [10, -1, 19],\n",
    "          [0, 7, 7 ]]\n",
    "\n",
    "labels_out = []\n",
    "\n",
    "for label in labels:\n",
    "    label_out = np.zeros((499, 3), dtype=np.float32)  # [:, 'speech', 'music', 'noise']\n",
    "    for segment_4sec in range(len(label)):\n",
    "        if label[segment_4sec] >= 0:\n",
    "            # speech label is 0\n",
    "            label_out[segment_4sec*200: (segment_4sec+1)*200, 0] = 1.\n",
    "        else:\n",
    "            # moise label is 2\n",
    "            label_out[segment_4sec*200: (segment_4sec+1)*200, 2] = 1.\n",
    "            \n",
    "    \n",
    "    label_out = label_out[ :MAX_DUR, :]   # (500, 3)\n",
    "    labels_out.append(label_out)\n",
    "    \n",
    "# save\n",
    "with open('../dataSets/labels.pickle', 'wb') as f:\n",
    "    dump(labels_out, f)"
   ]
  },
  {
   "cell_type": "code",
   "execution_count": 3,
   "metadata": {},
   "outputs": [
    {
     "name": "stdout",
     "output_type": "stream",
     "text": [
      "(296000,)\n"
     ]
    }
   ],
   "source": [
    "from librosa.core import load\n",
    "import scipy.io.wavfile as wavf\n",
    "import numpy as np\n",
    "\n",
    "wav1 = '/mnt/nvme/vovik/out0.wav'\n",
    "wav2 = 'test_sounds_8/16_spk5.wav'\n",
    "\n",
    "sample1, _ = load(wav1, sr=8000)\n",
    "sample1 = (np.array(sample1)*32768).astype(np.int16)    # from float to int16\n",
    "print(sample1.shape)\n",
    "\n",
    "\n",
    "# sample2, _ = load(wav2, sr=8000)\n",
    "# sample2 = (np.array(sample2)*32768).astype(np.int16)    # from float to int16\n",
    "\n",
    "# wavf.write('ebaaaa.wav', 8000, sample1+sample2)"
   ]
  },
  {
   "cell_type": "code",
   "execution_count": null,
   "metadata": {},
   "outputs": [],
   "source": [
    "# -------------------------------- From Wavs to Pickle ----------------------------------------------------\n",
    "from librosa.core import load\n",
    "from os import listdir, path\n",
    "import pickle\n",
    "import numpy as np\n",
    "\n",
    "dir_ = '/home/SPEECH/languages/augmented_DE'\n",
    "FS = 8000\n",
    "sec = 10\n",
    "file_out = []\n",
    "files = list(filter(lambda x: 'wav' in x, listdir(dir_)))\n",
    "#prev_sample = np.empty((0), dtype=np.int16)\n",
    "i = 0;\n",
    "for file in files:\n",
    "    sample, _ = load(path.join(dir_, file), sr=FS)\n",
    "    sample = (np.array(sample)*32768).astype(np.int16)    # from float to int16\n",
    "    if len(sample) < FS*sec:\n",
    "        print('Short wav')Const\n",
    "        continue\n",
    "    file_out.append(sample)\n",
    "    i += 1;\n",
    "    print(i, '/', len(files))\n",
    "    \n",
    "#    sample = np.concatenate((prev_sample, sample))\n",
    "#     if len(sample) >= FS * sec:\n",
    "#         file_out.append(sample[ :FS*sec])\n",
    "#         prev_sample = sample[FS*sec: ]\n",
    "#     else:\n",
    "#         prev_sample = sample\n",
    "        \n",
    "# to Pickle\n",
    "with open('/home/SPEECH/languages/lang_samples_10sec/A_comvoice_de71K.pickle', 'wb') as f:\n",
    "    pickle.dump(file_out, f)\n",
    "\n",
    "print(\"Done\")"
   ]
  },
  {
   "cell_type": "code",
   "execution_count": 1,
   "metadata": {},
   "outputs": [
    {
     "name": "stderr",
     "output_type": "stream",
     "text": [
      "/home/norsi/.local/lib/python3.6/site-packages/numba/errors.py:137: UserWarning: Insufficiently recent colorama version found. Numba requires colorama >= 0.3.9\n",
      "  warnings.warn(msg)\n"
     ]
    },
    {
     "name": "stdout",
     "output_type": "stream",
     "text": [
      "Done\n"
     ]
    }
   ],
   "source": [
    "# --------------------------------- From pickle to Wav ---------------------------------------------------------------\n",
    "import librosa\n",
    "import pickle\n",
    "import scipy.io.wavfile as wavf\n",
    "import numpy as np\n",
    "#with open('../Clustering/dataSets/embeddings_A.pickle', 'rb') as file:\n",
    "with open('dataSets/4_sec_segments.pickle', 'rb') as file:\n",
    "    data = pickle.load(file) \n",
    "FS = 8000\n",
    "\n",
    "# count = 0\n",
    "# N = 100\n",
    "# sample_out = np.empty([0], dtype=np.int16)\n",
    "# for i, (sample, indx_spk) in enumerate(data):\n",
    "    \n",
    "#     # we have new speaker\n",
    "#     if i > 0 and (not data[i][1] == data[i-1][1]):        \n",
    "#         if sample_out.shape[0] > FS*4.0:\n",
    "#             wavf.write('test_sounds_8/{}.wav'.format(i+1),FS, sample_out)\n",
    "#             count += 1\n",
    "#         sample_out = sample\n",
    "#     else:\n",
    "#         sample_out = np.concatenate( (sample_out, sample) )\n",
    "#     if count >= N:\n",
    "#         break\n",
    "        \n",
    "# # to Pickle\n",
    "# with open('../Clusterization/dataSet.pickle', 'wb') as f:\n",
    "#     pickle.dump(data_out, f)\n",
    "    \n",
    "for i in range(200):\n",
    "    signal = data[i][0]\n",
    "    wavf.write('test_sounds_8/{}_spk{}.wav'.format(i, data[i][1]),FS, signal)\n",
    "print(\"Done\")"
   ]
  },
  {
   "cell_type": "code",
   "execution_count": null,
   "metadata": {},
   "outputs": [],
   "source": [
    "# -------------------------------- Separate Pickle --------------------------------------------------------\n",
    "import pickle\n",
    "\n",
    "file_in = '/mnt/nvme/vovik/A_results_rus100K.pickle'\n",
    "file_out = '/mne/nvme/vovik/dataSets/A_results_rus20K_{}.pickle'\n",
    "\n",
    "with open(file_in, 'rb') as file:\n",
    "    print('load file in:', file_in)\n",
    "    data = pickle.load(file)\n",
    " \n",
    "N = 5\n",
    "print('Разделение на {} частей'.format(N))\n",
    "samples_inPart = len(data) // N\n",
    "\n",
    "for i in range(N):\n",
    "    part = data[i*samples_inPart : (i+1)*samples_inPart]\n",
    "    # save\n",
    "    with open(file_out.format(i+1), 'wb') as file:\n",
    "        print('file out:', file_out.format(i+1))\n",
    "        pickle.dump(part, file)\n",
    "\n",
    "print('Done')"
   ]
  },
  {
   "cell_type": "code",
   "execution_count": 3,
   "metadata": {},
   "outputs": [
    {
     "name": "stdout",
     "output_type": "stream",
     "text": [
      "dataSets/4_sec_segments.pickle\n",
      "Done: test_sounds_8/test7.wav\n"
     ]
    }
   ],
   "source": [
    "#----------------------------------------- Get some Wavs -----------------------------------------\n",
    "import pickle\n",
    "from os import path\n",
    "import numpy as np\n",
    "\n",
    "file_in = 'dataSets/4_sec_segments.pickle'\n",
    "# 6: [8, 16]\n",
    "# 7: \n",
    "# 8: \n",
    "indx_ls = []\n",
    "wav_out = 'test_sounds_8/test7.wav'\n",
    "\n",
    "# 1\n",
    "with open(file_in, 'rb') as file:\n",
    "    print(file_in)\n",
    "    data = pickle.load(file)\n",
    "\n",
    "new_data = np.array([], dtype=np.int16)\n",
    "for i in indx_ls:   \n",
    "    new_data = np.concatenate((new_data, data[i][0]))\n",
    "\n",
    "wavf.write(wav_out, 8000, new_data)\n",
    "print('Done:', wav_out)"
   ]
  },
  {
   "cell_type": "code",
   "execution_count": null,
   "metadata": {},
   "outputs": [],
   "source": []
  }
 ],
 "metadata": {
  "kernelspec": {
   "display_name": "Python 3",
   "language": "python",
   "name": "python3"
  },
  "language_info": {
   "codemirror_mode": {
    "name": "ipython",
    "version": 3
   },
   "file_extension": ".py",
   "mimetype": "text/x-python",
   "name": "python",
   "nbconvert_exporter": "python",
   "pygments_lexer": "ipython3",
   "version": "3.6.9"
  }
 },
 "nbformat": 4,
 "nbformat_minor": 4
}
