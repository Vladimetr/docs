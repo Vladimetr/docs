{
 "cells": [
  {
   "cell_type": "code",
   "execution_count": null,
   "metadata": {},
   "outputs": [],
   "source": [
    "list(filter(lambda x: 'wav' in x, os.listdir(common_voice_dir)))"
   ]
  },
  {
   "cell_type": "code",
   "execution_count": 9,
   "metadata": {},
   "outputs": [
    {
     "name": "stdout",
     "output_type": "stream",
     "text": [
      "[-6.7138672e-04  1.2207031e-04 -1.2207031e-04  9.1552734e-05\n",
      "  9.1552734e-05  3.6621094e-04  3.9672852e-04 -1.2207031e-04\n",
      "  3.9672852e-04 -1.2207031e-04]\n",
      "\n",
      "[-6.71386719e-04  1.22070312e-04 -1.22070312e-04  9.15527344e-05\n",
      "  9.15527344e-05  3.66210938e-04  3.96728516e-04 -1.22070312e-04\n",
      "  3.96728516e-04 -1.22070312e-04]\n"
     ]
    }
   ],
   "source": [
    "# -------------------- Librosa load and SoundFile load ----------------------\n",
    "import librosa\n",
    "import soundfile as sf\n",
    "\n",
    "fname = '/mnt/raid10/home/SPEECH/Diarization/Clustering/test_sounds/test1.wav'\n",
    "SR = 8000\n",
    "\n",
    "# 1\n",
    "sample, _ = librosa.load(fname, sr=SR)\n",
    "print(sample[10:20])\n",
    "print()\n",
    "data, _ = sf.read(fname)\n",
    "print(data[10:20])"
   ]
  },
  {
   "cell_type": "code",
   "execution_count": 32,
   "metadata": {},
   "outputs": [
    {
     "name": "stdout",
     "output_type": "stream",
     "text": [
      "Базовый аттрибут: 3\n",
      "Новый аттрибут: 5\n"
     ]
    }
   ],
   "source": [
    "# ------------------------------ setattr ------------------------------------\n",
    "# к экземпляру класса можно добавить аттрибут\n",
    "# аттрибут - поле класса - переменная\n",
    "\n",
    "class MyClass():\n",
    "    def __init__(self):\n",
    "        self.a = 3\n",
    "        pass\n",
    "    \n",
    "test = MyClass()\n",
    "print('Базовый аттрибут:', test.a)\n",
    "setattr(test, 'b', 5)\n",
    "print('Новый аттрибут:', test.b)"
   ]
  },
  {
   "cell_type": "code",
   "execution_count": 28,
   "metadata": {},
   "outputs": [
    {
     "name": "stdout",
     "output_type": "stream",
     "text": [
      "Кол-во вариантов=N_speakers! = 6\n",
      "Вариант 1\n",
      "[[1 0 0]\n",
      " [0 0 1]]\n",
      "\n",
      "Вариант 2\n",
      "[[1 0 0]\n",
      " [0 1 0]]\n",
      "\n",
      "Вариант 3\n",
      "[[0 1 0]\n",
      " [0 0 1]]\n",
      "\n",
      "Вариант 4\n",
      "[[0 0 1]\n",
      " [0 1 0]]\n",
      "\n",
      "Вариант 5\n",
      "[[0 1 0]\n",
      " [1 0 0]]\n",
      "\n",
      "Вариант 6\n",
      "[[0 0 1]\n",
      " [1 0 0]]\n",
      "\n"
     ]
    }
   ],
   "source": [
    "# -------------------- Подбор всех возможных разметок -----------------------\n",
    "from itertools import permutations\n",
    "import numpy as np\n",
    "\n",
    "label = np.array([[1, 0, 0],\n",
    "                  [0, 0, 1]], dtype=np.int8)\n",
    "\n",
    "label_perms = [label[..., list(p)] for p\n",
    "               in permutations(range(label.shape[-1]))]\n",
    "\n",
    "print('Кол-во вариантов=N_speakers! =', len(label_perms))\n",
    "for var, label in enumerate(label_perms):\n",
    "    print('Вариант', var+1)\n",
    "    print(label)\n",
    "    print()"
   ]
  },
  {
   "cell_type": "code",
   "execution_count": 50,
   "metadata": {},
   "outputs": [
    {
     "name": "stdout",
     "output_type": "stream",
     "text": [
      "[10, 20, 40]\n"
     ]
    }
   ],
   "source": [
    "# --------------------------- Multi Processing -------------------------------\n",
    "from multiprocessing import Pool\n",
    " \n",
    "def doubler(number):\n",
    "    return number * 2\n",
    " \n",
    "\n",
    "if __name__ == '__main__':\n",
    "    numbers = [5, 10, 20]\n",
    "    pool = Pool(processes=3)      # создаем 3 рабочих процесса\n",
    "    \n",
    "    # map - ставит соответствие процесса каждому вызову функции\n",
    "    res_ls = pool.map(doubler, numbers)\n",
    "    \n",
    "    print(res_ls)"
   ]
  },
  {
   "cell_type": "code",
   "execution_count": 32,
   "metadata": {},
   "outputs": [
    {
     "name": "stdout",
     "output_type": "stream",
     "text": [
      "5 doubled to 10 by process id: 38637\n",
      "10 doubled to 20 by process id: 38640\n",
      "15 doubled to 30 by process id: 38647\n",
      "20 doubled to 40 by process id: 38650\n",
      "25 doubled to 50 by process id: 38655\n"
     ]
    }
   ],
   "source": [
    "# --------------------------- Multi Processing -------------------------------\n",
    "import os\n",
    "from multiprocessing import Process\n",
    " \n",
    "def doubler(number):\n",
    "    \"\"\"\n",
    "    Функция умножитель на два\n",
    "    \"\"\"\n",
    "    result = number * 2\n",
    "    proc_id = os.getpid()\n",
    "    print('{0} doubled to {1} by process id: {2}'.format(\n",
    "        number, result, proc_id))\n",
    " \n",
    " \n",
    "if __name__ == '__main__':\n",
    "    numbers = [5, 10, 15, 20, 25]\n",
    "    procs = []\n",
    "    \n",
    "    for index, number in enumerate(numbers):\n",
    "        # создаем несколько процессоров\n",
    "        # каждый вызов функции имеет свой процесс\n",
    "        proc = Process(target=doubler, args=(number,))\n",
    "        procs.append(proc)\n",
    "        # запуск\n",
    "        proc.start()\n",
    "        \n",
    "    # если процессы долгие\n",
    "    # они работают, а мы попадаем\n",
    "    # в эту строчку\n",
    "    \n",
    "    for proc in procs:\n",
    "        proc.join()    # подождать, пока каждый процесс завершится\n",
    "        \n",
    "    # когда эти процессы завершатся\n",
    "    # мы перейдем сюда\n",
    "    \n",
    "    # но мы можем прервать\n",
    "    # procs[i].terminate()"
   ]
  },
  {
   "cell_type": "code",
   "execution_count": 17,
   "metadata": {},
   "outputs": [
    {
     "name": "stdout",
     "output_type": "stream",
     "text": [
      "('a', 1)\n",
      "('b', 2)\n",
      "('c', 3)\n"
     ]
    }
   ],
   "source": [
    "# -------------------------------- ZIP --------------------------------------\n",
    "ls_1 = ['a', 'b', 'c', 'd']\n",
    "ls_2 = [1, 2, 3]\n",
    "\n",
    "for k in zip(ls_1, ls_2):\n",
    "    # tuple of (ls_1[i], ls_2[i])\n",
    "    print(k)\n",
    "    \n",
    "# Если кол-во не совпадает (ls_1>ls_2),\n",
    "# берется минимальное"
   ]
  },
  {
   "cell_type": "code",
   "execution_count": 10,
   "metadata": {},
   "outputs": [
    {
     "name": "stdout",
     "output_type": "stream",
     "text": [
      "{'b': 2, 'c': 3}\n"
     ]
    }
   ],
   "source": [
    "# -------------------------- *args, **kwargs ---------------------------------\n",
    "def func(*args, **kwargs):\n",
    "    \"\"\"\n",
    "    *args - arguments\n",
    "    tuple of args\n",
    "    **kwargs - keyword arguments\n",
    "    \n",
    "    \"\"\"\n",
    "    print(kwargs)\n",
    "    pass\n",
    "\n",
    "# мы можем вызывать функцию со списком\n",
    "# аргументов переменной длины\n",
    "\n",
    "func(1, 2, 3)\n",
    "# *args = (1, 2, 3)\n",
    "# kwargs = {}\n",
    "\n",
    "func(1, b=2, c=3)\n",
    "# *args = (1,)\n",
    "# kwargs = {'b': 2, 'c': 3}"
   ]
  },
  {
   "cell_type": "code",
   "execution_count": 12,
   "metadata": {},
   "outputs": [
    {
     "name": "stdout",
     "output_type": "stream",
     "text": [
      "0\n",
      "1\n",
      "2\n",
      "3\n",
      "4\n"
     ]
    }
   ],
   "source": [
    "# --------------------------- yield ------------------------------------------\n",
    "def func(n):\n",
    "    for i in range(n):\n",
    "        yield i   # ==> return [0, 1, 2, ..., n-1]\n",
    "        \n",
    "ls = func(5)\n",
    "for elem in ls:\n",
    "    print(elem)"
   ]
  },
  {
   "cell_type": "code",
   "execution_count": 4,
   "metadata": {},
   "outputs": [
    {
     "name": "stdout",
     "output_type": "stream",
     "text": [
      "str is: 2\n",
      "formating str: str is: 2\n"
     ]
    }
   ],
   "source": [
    "# --------------------------- __str__ ----------------------------------------\n",
    "class MyClass():\n",
    "    def __init__(self, data):\n",
    "        self.data = data\n",
    "    \n",
    "    def __str__(self):\n",
    "        str_ = 'str is: {}'.format(self.data)\n",
    "        return str_\n",
    "    \n",
    "test = MyClass(2)\n",
    "print(str(test))\n",
    "print('formating str: %s' % (test))"
   ]
  },
  {
   "cell_type": "code",
   "execution_count": 5,
   "metadata": {},
   "outputs": [
    {
     "data": {
      "text/plain": [
       "4"
      ]
     },
     "execution_count": 5,
     "metadata": {},
     "output_type": "execute_result"
    }
   ],
   "source": [
    "# ---------------------------- __len__ ----------------------------------------\n",
    "class MyClass():\n",
    "    def __init__(self, items):\n",
    "        self.items = items\n",
    "    \n",
    "    def __len__(self):\n",
    "        return len(self.items)\n",
    "\n",
    "test = MyClass([1, 2, 3, 4])\n",
    "len(test) # equal to list method"
   ]
  },
  {
   "cell_type": "code",
   "execution_count": 14,
   "metadata": {},
   "outputs": [
    {
     "name": "stdout",
     "output_type": "stream",
     "text": [
      "1\n",
      "2\n"
     ]
    }
   ],
   "source": [
    "# ----------------------------- __iter__ --------------------------------------\n",
    "class MyClass():\n",
    "    def __init__(self, items):\n",
    "        self.items = items\n",
    "        \n",
    "    def __iter__(self):\n",
    "        return iter(self.items)\n",
    "    \n",
    "test = MyClass([1, 2, 3, 4])\n",
    "iterator = iter(test)\n",
    "\n",
    "# в отличие от getitem,\n",
    "# next можно вызывать в любом месте\n",
    "# а не только в цикле for\n",
    "# ! только следить за выходом за пределом !\n",
    "print(next(iterator))\n",
    "print(next(iterator))        "
   ]
  },
  {
   "cell_type": "code",
   "execution_count": 4,
   "metadata": {},
   "outputs": [
    {
     "name": "stdout",
     "output_type": "stream",
     "text": [
      "1\n",
      "2\n",
      "3\n",
      "4\n"
     ]
    }
   ],
   "source": [
    "# ---------------------------- __getitem__ ------------------------------------\n",
    "\n",
    "class MyClass():\n",
    "    def __init__(self, items):\n",
    "        self.items = items\n",
    "        pass\n",
    "    \n",
    "    def __getitem__(self, index):\n",
    "        return self.items[index]\n",
    "    \n",
    "test = MyClass([1, 2, 3, 4])\n",
    "for elem in test:\n",
    "    print(elem)"
   ]
  },
  {
   "cell_type": "code",
   "execution_count": 10,
   "metadata": {},
   "outputs": [
    {
     "name": "stdout",
     "output_type": "stream",
     "text": [
      "09-Sep-2020 15:59:00\n"
     ]
    }
   ],
   "source": [
    "# ------------------------------ DateTime ---------------------------\n",
    "from datetime import datetime\n",
    "\n",
    "now = datetime.now()\n",
    "\n",
    "current_time = now.strftime(\"%d-%b-%Y %H:%M:%S\")\n",
    "# %Y - year\n",
    "# %m - month (num)\n",
    "# %b - month (str)\n",
    "# %d - day\n",
    "\n",
    "print(current_time)"
   ]
  },
  {
   "cell_type": "code",
   "execution_count": 2,
   "metadata": {},
   "outputs": [
    {
     "name": "stdout",
     "output_type": "stream",
     "text": [
      "time: 0:00:00.000056\n"
     ]
    }
   ],
   "source": [
    "# --------------------------------- Time ----------------------------\n",
    "from datetime import datetime\n",
    "now = datetime.now()\n",
    "# testing code\n",
    "print('time:', datetime.now() - now)"
   ]
  },
  {
   "cell_type": "code",
   "execution_count": null,
   "metadata": {},
   "outputs": [],
   "source": [
    "# --------------------------------- Glob ----------------------------\n",
    "import glob\n",
    "template = '/mnt/raid10/home/SPEECH/Diarization/Clustering/test_sounds/test*.wav'\n",
    "file_ls = glob.glob(template)\n",
    "for file in file_ls:\n",
    "    print(file)"
   ]
  },
  {
   "cell_type": "code",
   "execution_count": null,
   "metadata": {},
   "outputs": [],
   "source": [
    "# --------------------------------- Types ---------------------------\n",
    "import numpy as np\n",
    "\n",
    "a = [1, 2, 3]\n",
    "if type(a) == list:\n",
    "    print('a is list')\n",
    "    \n",
    "b = (1, 2, 3)\n",
    "if type(b) == tuple:\n",
    "    print('b is tuple')\n",
    "    \n",
    "c = np.array([1,2, 3])\n",
    "if type(c) == np.ndarray:\n",
    "    print('c is ndarray')"
   ]
  },
  {
   "cell_type": "code",
   "execution_count": null,
   "metadata": {},
   "outputs": [],
   "source": [
    "# переменная функции\n",
    "def func1():\n",
    "    print('1')\n",
    "    \n",
    "def func2():\n",
    "    print('2')\n",
    "    \n",
    "func = func2\n",
    "func()"
   ]
  },
  {
   "cell_type": "code",
   "execution_count": null,
   "metadata": {},
   "outputs": [],
   "source": [
    "# ---------------------------------- Как подключать ТФ -----------------------------------------\n",
    "import os\n",
    "os.environ[\"CUDA_DEVICE_ORDER\"]=\"PCI_BUS_ID\"   # see issue #152\n",
    "os.environ[\"CUDA_VISIBLE_DEVICES\"]=\"0\"\n",
    "os.environ['TF_CPP_MIN_LOG_LEVEL']=\"2\"       # чтоб не выводилась инфа\n",
    "import warnings\n",
    "warnings.filterwarnings('ignore')        # IGNORE WARNINGS\n",
    "\n",
    "try:\n",
    "   # TF 2.\n",
    "   import tensorflow.compat.v1 as tf\n",
    "except ImportError:\n",
    "   # TF 1.\n",
    "   import tensorflow as tf"
   ]
  },
  {
   "cell_type": "code",
   "execution_count": null,
   "metadata": {},
   "outputs": [],
   "source": [
    "# ------------------------------ load model from .pb ------------------------------------\n",
    "import tensorflow as tf\n",
    "from tensorflow.python.platform import gfile\n",
    "\n",
    "model_filename ='PATH_TO_PB.pb'\n",
    "\n",
    "with tf.Session() as sess:\n",
    "   \n",
    "    # open .pb file\n",
    "    with gfile.FastGFile(model_filename, 'rb') as f:\n",
    "        graph_def = tf.GraphDef()              # define serialized graph \n",
    "                                               # to restore from .pb or SavedModel\n",
    "        graph_def.ParseFromString(f.read())    # load graph from .pb   \n",
    "        \n",
    "        # sess.graph.as_default()  вроде как это лишнее но оставлю на всякий\n",
    "    \n",
    "        # присваиваем graph_def to sess\n",
    "        tf.import_graph_def(graph_def)\n",
    "        # теперь sess.graph - это graph.def \n",
    "        \n",
    "        # еще можно сохранить в переменную сам граф\n",
    "#         with tf.Graph().as_default() as my_graph:\n",
    "#             tf.import_graph_def(graph_def, name='')\n",
    "    \n",
    "    # print tensors from graph\n",
    "    for n in tf.get_default_graph().as_graph_def().node:\n",
    "        print(n.name )\n",
    "        \n",
    "    # create summary with graph\n",
    "    with tf.Graph().as_default() as g:\n",
    "        file_writer = tf.summary.FileWriter(os.path.join(FLAGS.logdir, 'train'), graph=sess.graph)        \n",
    "\n",
    "    # or as below\n",
    "    writer = tf.summary.FileWriter('logdir/')\n",
    "    writer.add_graph(sess.graph)"
   ]
  },
  {
   "cell_type": "code",
   "execution_count": null,
   "metadata": {},
   "outputs": [],
   "source": [
    "# subprocess - вызов команд из comline\n",
    "from subprocess import Popen, PIPE\n",
    "import shutil\n",
    "\n",
    "in_wav = 'test.wav'\n",
    "out_wav = 'preprocessed.wav'\n",
    "command = 'ffmpeg'\n",
    "\n",
    "# для начала проверим, \n",
    "# что команда существует в системе\n",
    "if shutil.which(command) is None:\n",
    "    raise Exception('{} is not found'.format(command))\n",
    "    \n",
    "# --- также нужно проверить существование файлов ---\n",
    "\n",
    "args = [command, '-y', '-i', in_wav, '-ar', '16000', '-ac', '1', out_wav]  # кол-во каналов на выходе\n",
    "\n",
    "# launch ffmpeg\n",
    "p = Popen(args, stdout=PIPE, stderr=PIPE)\n",
    "output, error = p.communicate()\n",
    "# output: строку или кортеж данных вывода\n",
    "# error: строку или кортеж ошибок\n",
    "assert p.returncode == 0, error\n"
   ]
  },
  {
   "cell_type": "code",
   "execution_count": null,
   "metadata": {},
   "outputs": [],
   "source": [
    "# время работы программы \n",
    "from datetime import datetime\n",
    "import time\n",
    "\n",
    "start_time = datetime.now()\n",
    "\n",
    "#Тут выполняются действия\n",
    "time.sleep(5)\n",
    "\n",
    "print(datetime.now() - start_time)"
   ]
  },
  {
   "cell_type": "code",
   "execution_count": null,
   "metadata": {},
   "outputs": [],
   "source": [
    "from librosa import load\n",
    "import numpy as np\n",
    "\n",
    "fname = '/mnt/raid10/home/SPEECH/Diarization/diarization/tests/test1.wav'\n",
    "sample, _ = load(fname, sr=8000)\n",
    "sample = sample[np.newaxis, :]\n",
    "print(sample.shape)"
   ]
  },
  {
   "cell_type": "code",
   "execution_count": null,
   "metadata": {},
   "outputs": [],
   "source": [
    "str = 'abc/123/345/789.wav'\n",
    "new_str = str.replace('.', '-0.')  # 'burmurian'\n",
    "print(new_str)"
   ]
  },
  {
   "cell_type": "code",
   "execution_count": null,
   "metadata": {},
   "outputs": [],
   "source": [
    "# ------------------------------ Assert ---------------------------------\n",
    "\"\"\"\n",
    "используют тогда, когда ошибка может вылезти в другом месте\n",
    "а мы не поймем, откуда взялась. Лучше сразу ее обработать\n",
    "через assert\n",
    "\"\"\"\n",
    "assert 0 < 2 < 1, 'MessageError'\n",
    "print('no print')"
   ]
  },
  {
   "cell_type": "code",
   "execution_count": null,
   "metadata": {},
   "outputs": [],
   "source": [
    "# ----------------------- try, except, finally --------------------------\n",
    "\n",
    "try:\n",
    "    2 / 0\n",
    "except ZeroDivisionError:  # обработка именно этого исключения\n",
    "    # можно в скобках через , указать несколько исключений\n",
    "    # или не указывать ни одного - будет обрабатывать все исключения\n",
    "    print('Деление на 0 - не надо так')\n",
    "finally:\n",
    "    # этот блок сработает в любом случае - \n",
    "    # что при try, что при except\n",
    "    print('Пример исключения')"
   ]
  },
  {
   "cell_type": "code",
   "execution_count": null,
   "metadata": {},
   "outputs": [],
   "source": [
    "# ----------------------------- Exception -------------------------------\n",
    "\n",
    "raise Exception('It is my error')\n",
    "print('it will be not shown')"
   ]
  },
  {
   "cell_type": "code",
   "execution_count": null,
   "metadata": {},
   "outputs": [],
   "source": [
    "# ----------------------------- перенос -----------------------------------\n",
    "\n",
    "str = \"dsdadda\"\n",
    "\"eba\"\n",
    "print(str)"
   ]
  },
  {
   "cell_type": "code",
   "execution_count": null,
   "metadata": {},
   "outputs": [],
   "source": [
    "# ------------------------------- Logging -----------------------------------\n",
    "\n",
    "import logging\n",
    "\n",
    "# DEBUG\n",
    "# INFO\n",
    "# WARNING\n",
    "# ERROR\n",
    "# CRITICAL\n",
    "\n",
    "logging.basicConfig(filename=None, format=\"%(asctime)s %(message)s\", datefmt='%H:%M:%S', level=logging.INFO)\n",
    "# если filename=None, то вывод будет в консоль\n",
    "# будут выводиться сообщения с приоритетом не ниже INFO\n",
    "# filemode='a' by Default на добавление в конец. ('w' - запись)\n",
    "# можем выбрать другой формат вывода: время, тип лога и др.\n",
    "\n",
    "logging.info('info_message')\n",
    "logging.debug('debug_message')     # это не покажется, т.к. приоритет DEBUG ниже, чем level=logging.INFO\n",
    "\n",
    "# в процессе можно менять приоритет\n",
    "# logging.setLevel(logging.DEBUG)"
   ]
  },
  {
   "cell_type": "code",
   "execution_count": null,
   "metadata": {},
   "outputs": [],
   "source": [
    "# ------------------------------- Work with .tsv ------------------------------------------\n",
    "\n",
    "import pandas as pd\n",
    "from os.path import join\n",
    "from shutil import copyfile as cp\n",
    "\n",
    "dir_ = '/home/SPEECH/voice_data/raw_voices/common_voice/ru'\n",
    "file_name = 'validated.tsv'\n",
    "\n",
    "table = pd.read_table(join(dir_, file_name))\n",
    "print(len(table.path))"
   ]
  }
 ],
 "metadata": {
  "kernelspec": {
   "display_name": "Python 3",
   "language": "python",
   "name": "python3"
  },
  "language_info": {
   "codemirror_mode": {
    "name": "ipython",
    "version": 3
   },
   "file_extension": ".py",
   "mimetype": "text/x-python",
   "name": "python",
   "nbconvert_exporter": "python",
   "pygments_lexer": "ipython3",
   "version": "3.6.9"
  }
 },
 "nbformat": 4,
 "nbformat_minor": 4
}
