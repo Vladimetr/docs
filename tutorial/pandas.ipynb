{
 "cells": [
  {
   "cell_type": "code",
   "execution_count": null,
   "metadata": {},
   "outputs": [],
   "source": [
    "import pandas as pd\n",
    "# pd_file = '/mnt/nvme/vovik/clean_data/diarization_results/alex_data_12500-new-2.csv'\n",
    "# pd_file = '/mnt/nvme/vovik/clean_data/test.csv'\n",
    "# pd_file =  '/mnt/raid10/home/max/speech/my_proto_new/VAD_selection/lists_and_logs/selection/sel.csv'\n",
    "pd_file =  '/mnt/nvme/vovik/dataSets/segments3.csv'\n",
    "df = pd.read_csv(pd_file, sep=',', index_col='Unnamed: 0')\n",
    "df.head(15)"
   ]
  },
  {
   "cell_type": "code",
   "execution_count": null,
   "metadata": {},
   "outputs": [],
   "source": [
    "# check missing value\n",
    "count = 0\n",
    "print(df.shape[0])\n",
    "for i in range(499):\n",
    "    mv = df.iloc[i][4]\n",
    "    if not mv == 0:\n",
    "        count += 1\n",
    "print(count)"
   ]
  },
  {
   "cell_type": "code",
   "execution_count": null,
   "metadata": {
    "scrolled": true
   },
   "outputs": [],
   "source": [
    "# get column name\n",
    "for col_name in df.columns:\n",
    "    print(col_name)"
   ]
  },
  {
   "cell_type": "code",
   "execution_count": null,
   "metadata": {},
   "outputs": [],
   "source": [
    "# ------------------------------ CSV ---------------------------------\n",
    "import pandas as pd\n",
    "\n",
    "pd_file = 'test.csv'\n",
    "\n",
    "# dataframe = pd.read_csv(url)     # sep - как разделены данные в файле. , by default\n",
    "                                   # index_col = 'Data' - по какой колонке считать индекс\n",
    "\n",
    "dataframe = pd.DataFrame({'country' : ['USA', 'Germany', 'Russia'],\n",
    "                         'money' : [3000, 2000, 1000], \n",
    "                         'square' : [20000, 5000, 30000]}, index=['US', 'De', 'Ru'])\n",
    "                                                # можно вместо целочисленных индексов задать свои сразу\n",
    "# или потом\n",
    "# dataframe.index = ['US', 'De', 'Ru']\n",
    "\n",
    "# также можно задать и имя индекса\n",
    "dataframe.index.name = 'code'\n",
    "\n",
    "# сортировка по индексу\n",
    "# dataframe = dataframe.sort_index()  # сортировка по индексу\n",
    "\n",
    "# сбросить индексы к целочисленным\n",
    "# dataframe = dataframe.reset_index()\n",
    "dataframe"
   ]
  },
  {
   "cell_type": "code",
   "execution_count": null,
   "metadata": {},
   "outputs": [],
   "source": [
    "row = dataframe.iloc[0]\n",
    "a, v, c = row\n",
    "c"
   ]
  },
  {
   "cell_type": "code",
   "execution_count": null,
   "metadata": {},
   "outputs": [],
   "source": [
    "# проход по строкам\n",
    "for index, row in dataframe.iterrows():\n",
    "    print(index, row[0])"
   ]
  },
  {
   "cell_type": "code",
   "execution_count": null,
   "metadata": {},
   "outputs": [],
   "source": [
    "# кол-во всех ячеек (строки*столбцы)\n",
    "size = dataframe.size\n",
    "# размер таблицы\n",
    "m, n = dataframe.shape\n",
    "\n",
    "print('size:', size)\n",
    "print('N colomns:', n)\n",
    "print('N rows:', m)"
   ]
  },
  {
   "cell_type": "code",
   "execution_count": null,
   "metadata": {},
   "outputs": [],
   "source": [
    "# показать богатые страны\n",
    "dataframe[dataframe.money > 2500].head()"
   ]
  },
  {
   "cell_type": "code",
   "execution_count": null,
   "metadata": {},
   "outputs": [],
   "source": [
    "# DataFrame - это таблица, в которой обращение столбцы заданы именами,\n",
    "# а строки любыми любыми другими типами\n",
    "\n",
    "# вывести первые две строки из раздела country\n",
    "print(dataframe['country'][:2])\n",
    "\n",
    "# доступ по имени индекса\n",
    "print(dataframe.loc['US'])\n",
    "# или по номеру индекса\n",
    "print(dataframe.iloc[1])\n",
    "\n",
    "# мы можем в кач. индекса другой столбец\n",
    "# значения в котором уникальны\n",
    "# dataframe = dataframe.set_index(dataframe['country'])\n",
    "\n",
    "# вывести определенную колонку\n",
    "print(dataframe.loc[['US', 'Ru'], 'square'])"
   ]
  },
  {
   "cell_type": "code",
   "execution_count": null,
   "metadata": {},
   "outputs": [],
   "source": [
    "# арифметика\n",
    "print(dataframe.money.max())\n",
    "print(dataframe.money.min())\n",
    "print(dataframe.money.mean())\n",
    "print(dataframe.money.sum())\n",
    "print(dataframe.money.count())"
   ]
  },
  {
   "cell_type": "code",
   "execution_count": null,
   "metadata": {},
   "outputs": [],
   "source": [
    "dataframe\n",
    "# количество стран, в которых площадь больше 10000\n",
    "dataframe[dataframe.square > 10000].shape[0]"
   ]
  },
  {
   "cell_type": "code",
   "execution_count": null,
   "metadata": {},
   "outputs": [],
   "source": [
    "# замена значений\n",
    "dataframe['country'].replace('USA', 'United States').head()"
   ]
  },
  {
   "cell_type": "code",
   "execution_count": null,
   "metadata": {},
   "outputs": [],
   "source": [
    "# переименовать столбец\n",
    "dataframe.rename(columns={'country': 'страна'}).head()"
   ]
  },
  {
   "cell_type": "code",
   "execution_count": null,
   "metadata": {},
   "outputs": [],
   "source": [
    "# добавить новую колонку\n",
    "dataframe['people'] = ['25', '12', '54']\n",
    "dataframe"
   ]
  },
  {
   "cell_type": "code",
   "execution_count": null,
   "metadata": {},
   "outputs": [],
   "source": [
    "# удалить колонку\n",
    "dataframe = dataframe.drop(['people'], axis='columns')\n",
    "dataframe"
   ]
  },
  {
   "cell_type": "code",
   "execution_count": null,
   "metadata": {},
   "outputs": [],
   "source": [
    "# добавить строчку\n",
    "new_data = [{'country': 'Ukraine', 'money': 2223, 'square': 487}]\n",
    "df2 = dataframe.append(new_data)\n",
    "df2"
   ]
  },
  {
   "cell_type": "code",
   "execution_count": null,
   "metadata": {},
   "outputs": [],
   "source": [
    "# совместить две таблицы\n",
    "dataframe2 = pd.DataFrame({'country':'Ukraine', 'money':2223, 'square':487}, index=['UA'])\n",
    "dataframe_res = pd.concat([dataframe, dataframe2])\n",
    "dataframe_res = dataframe_res.reset_index()\n",
    "dataframe_res"
   ]
  },
  {
   "cell_type": "code",
   "execution_count": null,
   "metadata": {},
   "outputs": [],
   "source": [
    "# удалить строчку\n",
    "new_df = dataframe.drop(['US'], axis='rows')\n",
    "new_df"
   ]
  },
  {
   "cell_type": "code",
   "execution_count": null,
   "metadata": {},
   "outputs": [],
   "source": [
    "# удалить бедные страны и маленькие страны\n",
    "new_df = dataframe[(dataframe.money > 1000) & (dataframe.square > 3000)]\n",
    "new_df"
   ]
  },
  {
   "cell_type": "code",
   "execution_count": null,
   "metadata": {},
   "outputs": [],
   "source": [
    "# удалить дупликаты названия стран\n",
    "dataframe.drop_duplicates(subset=['country'])"
   ]
  },
  {
   "cell_type": "code",
   "execution_count": null,
   "metadata": {},
   "outputs": [],
   "source": [
    "# применить некоторую функцию для каждого элемента столбца\n",
    "def to_float(x):\n",
    "    return x*1.0\n",
    "\n",
    "dataframe['money'].apply(to_float).head()"
   ]
  },
  {
   "cell_type": "code",
   "execution_count": null,
   "metadata": {},
   "outputs": [],
   "source": [
    "# сгрупировать страны по столбцу и вычислить среднее\n",
    "dataframe.groupby('money').mean()"
   ]
  },
  {
   "cell_type": "code",
   "execution_count": null,
   "metadata": {},
   "outputs": [],
   "source": [
    "# save to .csv\n",
    "dataframe.to_csv('test.csv', sep=' ', index=False)\n",
    "# индексы не будут отражены\n",
    "# header = False - без заголовка"
   ]
  },
  {
   "cell_type": "code",
   "execution_count": null,
   "metadata": {},
   "outputs": [],
   "source": [
    "# open .csv\n",
    "dataframe = pd.read_csv('test.csv', sep=' ')#, index_col='Unnamed: 0')\n",
    "# если без заголовка, то header=None"
   ]
  },
  {
   "cell_type": "code",
   "execution_count": null,
   "metadata": {},
   "outputs": [],
   "source": [
    "dataframe.describe()"
   ]
  },
  {
   "cell_type": "code",
   "execution_count": null,
   "metadata": {},
   "outputs": [],
   "source": [
    "# ----------------------------------- Добавляем время -----------------------------------\n",
    "import numpy as np\n",
    "\n",
    "time_index = pd.date_range('06/06/2017', periods=10, freq='30S')\n",
    "# начальная дата 2017-06-06 00:00:00\n",
    "# число дат = 10\n",
    "# шаг = 30 секунд\n",
    "\n",
    "dataframe = pd.DataFrame(index=time_index)\n",
    "\n",
    "# создать столбец случайных значений\n",
    "dataframe['values'] = np.random.randint(1, 10, 10)\n",
    "\n",
    "# сгруппировать строки по 1 минуте и посчитать сумму\n",
    "dataframe.resample('60S').sum()\n",
    "# сгруппировать по месяцу - 'W'\n",
    "# сгруппировать по дню - 'D'"
   ]
  }
 ],
 "metadata": {
  "kernelspec": {
   "display_name": "Python 3",
   "language": "python",
   "name": "python3"
  },
  "language_info": {
   "codemirror_mode": {
    "name": "ipython",
    "version": 3
   },
   "file_extension": ".py",
   "mimetype": "text/x-python",
   "name": "python",
   "nbconvert_exporter": "python",
   "pygments_lexer": "ipython3",
   "version": "3.6.9"
  }
 },
 "nbformat": 4,
 "nbformat_minor": 4
}
